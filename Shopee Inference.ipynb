{
 "cells": [
  {
   "cell_type": "markdown",
   "id": "c4c659ae",
   "metadata": {
    "papermill": {
     "duration": 0.052523,
     "end_time": "2022-03-25T08:24:24.325613",
     "exception": false,
     "start_time": "2022-03-25T08:24:24.273090",
     "status": "completed"
    },
    "tags": []
   },
   "source": [
    "# Inference Notebook"
   ]
  },
  {
   "cell_type": "markdown",
   "id": "015fec5d",
   "metadata": {},
   "source": [
    "Thanks to the public 11th place solution Inference Notebook: https://www.kaggle.com/code/shigemitsutomizawa/shopee-inference-11th-place-simple-solution"
   ]
  },
  {
   "cell_type": "code",
   "execution_count": null,
   "id": "ff62f23c",
   "metadata": {
    "_cell_guid": "b1076dfc-b9ad-4769-8c92-a6c4dae69d19",
    "_uuid": "8f2839f25d086af736a60e9eeb907d3b93b6e0e5",
    "execution": {
     "iopub.execute_input": "2022-03-25T08:24:24.399658Z",
     "iopub.status.busy": "2022-03-25T08:24:24.397546Z",
     "iopub.status.idle": "2022-03-25T08:24:24.481107Z",
     "shell.execute_reply": "2022-03-25T08:24:24.480342Z",
     "shell.execute_reply.started": "2021-10-18T00:55:37.152724Z"
    },
    "papermill": {
     "duration": 0.122425,
     "end_time": "2022-03-25T08:24:24.481316",
     "exception": false,
     "start_time": "2022-03-25T08:24:24.358891",
     "status": "completed"
    },
    "tags": []
   },
   "outputs": [],
   "source": [
    "import sys\n",
    "if 'kaggle_web_client' in sys.modules:\n",
    "    sys.path.append('../input/imports/pytorch-image-models-master/pytorch-image-models-master')\n",
    "    sys.path.append('../input/imports/transformers-master/transformers-master')"
   ]
  },
  {
   "cell_type": "code",
   "execution_count": null,
   "id": "3d148b22",
   "metadata": {
    "execution": {
     "iopub.execute_input": "2022-03-25T08:24:24.563727Z",
     "iopub.status.busy": "2022-03-25T08:24:24.562671Z",
     "iopub.status.idle": "2022-03-25T08:24:35.331120Z",
     "shell.execute_reply": "2022-03-25T08:24:35.332419Z",
     "shell.execute_reply.started": "2021-10-18T00:55:37.179598Z"
    },
    "papermill": {
     "duration": 10.819644,
     "end_time": "2022-03-25T08:24:35.332676",
     "exception": false,
     "start_time": "2022-03-25T08:24:24.513032",
     "status": "completed"
    },
    "tags": []
   },
   "outputs": [],
   "source": [
    "import os\n",
    "import re\n",
    "import cv2\n",
    "import math\n",
    "import random\n",
    "import numpy as np\n",
    "import pandas as pd\n",
    "import gc\n",
    "import matplotlib.pyplot as plt\n",
    "from tqdm import tqdm\n",
    "import warnings\n",
    "warnings.filterwarnings('ignore')\n",
    "\n",
    "import torch\n",
    "import torch.nn as nn\n",
    "from torch.nn import functional as F\n",
    "from torch.utils.data import Dataset, DataLoader\n",
    "import timm\n",
    "import albumentations\n",
    "from albumentations.pytorch.transforms import ToTensorV2\n",
    "\n",
    "from transformers import AutoTokenizer, AutoModel\n",
    "\n",
    "from sklearn.feature_extraction.text import TfidfVectorizer\n",
    "from sklearn.neighbors import NearestNeighbors"
   ]
  },
  {
   "cell_type": "markdown",
   "id": "496fdd51",
   "metadata": {
    "papermill": {
     "duration": 0.048241,
     "end_time": "2022-03-25T08:24:35.432517",
     "exception": false,
     "start_time": "2022-03-25T08:24:35.384276",
     "status": "completed"
    },
    "tags": []
   },
   "source": [
    "## Config"
   ]
  },
  {
   "cell_type": "code",
   "execution_count": null,
   "id": "c1f04490",
   "metadata": {
    "execution": {
     "iopub.execute_input": "2022-03-25T08:24:35.545258Z",
     "iopub.status.busy": "2022-03-25T08:24:35.544244Z",
     "iopub.status.idle": "2022-03-25T08:24:35.615637Z",
     "shell.execute_reply": "2022-03-25T08:24:35.614830Z",
     "shell.execute_reply.started": "2021-09-14T13:04:02.585137Z"
    },
    "papermill": {
     "duration": 0.132705,
     "end_time": "2022-03-25T08:24:35.615844",
     "exception": false,
     "start_time": "2022-03-25T08:24:35.483139",
     "status": "completed"
    },
    "tags": []
   },
   "outputs": [],
   "source": [
    "class CFG:\n",
    "    compute_cv = 0  # set False to fast save\n",
    "    todo_predictions = ['predictions']\n",
    "    \n",
    "    ### CNN and cnn\n",
    "    use_amp = True\n",
    "    scale = 30  # ArcFace\n",
    "    margin = 0.5  # ArcFace\n",
    "    seed = 2021\n",
    "    classes = 11014\n",
    "    device = torch.device('cuda:0' if torch.cuda.is_available() else 'cpu')\n",
    "    print(device)           \n",
    "    \n",
    "    ### Prediction\n",
    "    cnn_threshold = 0.68\n",
    "    chunk = 1024\n",
    "    max_preds = 42\n",
    "    nearlest_one = False # True is better\n",
    "        \n",
    "    ### Data\n",
    "    \n",
    "    train_csv_path = '../input/shopee-product-matching/train.csv'\n",
    "    test_csv_path = '../input/shopee-product-matching/test.csv'\n",
    "    \n",
    "    if compute_cv == True:\n",
    "        images_dir = '../input/shopee-product-matching/train_images/'\n",
    "    else:\n",
    "        images_dir = '../input/shopee-product-matching/test_images/'\n",
    "\n",
    "    if 'kaggle_web_client' in sys.modules:\n",
    "        num_workers = 4\n",
    "    else:\n",
    "        num_workers = 0  # for Windows 10"
   ]
  },
  {
   "cell_type": "code",
   "execution_count": null,
   "id": "38ce0412",
   "metadata": {
    "execution": {
     "iopub.execute_input": "2022-03-25T08:24:35.709191Z",
     "iopub.status.busy": "2022-03-25T08:24:35.708459Z",
     "iopub.status.idle": "2022-03-25T08:24:35.719624Z",
     "shell.execute_reply": "2022-03-25T08:24:35.719133Z",
     "shell.execute_reply.started": "2021-09-14T13:04:02.598651Z"
    },
    "papermill": {
     "duration": 0.051799,
     "end_time": "2022-03-25T08:24:35.719750",
     "exception": false,
     "start_time": "2022-03-25T08:24:35.667951",
     "status": "completed"
    },
    "tags": []
   },
   "outputs": [],
   "source": [
    "def seed_everything(seed):\n",
    "    random.seed(seed)\n",
    "    os.environ['PYTHONHASHSEED'] = str(seed)\n",
    "    np.random.seed(seed)\n",
    "    torch.manual_seed(seed)\n",
    "    torch.cuda.manual_seed(seed)\n",
    "    torch.backends.cudnn.deterministic = True\n",
    "    torch.backends.cudnn.benchmark = True # set True to be faster\n",
    "\n",
    "seed_everything(CFG.seed)"
   ]
  },
  {
   "cell_type": "markdown",
   "id": "6959d73d",
   "metadata": {
    "papermill": {
     "duration": 0.030048,
     "end_time": "2022-03-25T08:24:35.780504",
     "exception": false,
     "start_time": "2022-03-25T08:24:35.750456",
     "status": "completed"
    },
    "tags": []
   },
   "source": [
    "## Utils"
   ]
  },
  {
   "cell_type": "code",
   "execution_count": null,
   "id": "d6dbd110",
   "metadata": {
    "execution": {
     "iopub.execute_input": "2022-03-25T08:24:35.845296Z",
     "iopub.status.busy": "2022-03-25T08:24:35.844174Z",
     "iopub.status.idle": "2022-03-25T08:24:35.851747Z",
     "shell.execute_reply": "2022-03-25T08:24:35.851263Z",
     "shell.execute_reply.started": "2021-09-14T13:04:02.621041Z"
    },
    "papermill": {
     "duration": 0.04132,
     "end_time": "2022-03-25T08:24:35.851915",
     "exception": false,
     "start_time": "2022-03-25T08:24:35.810595",
     "status": "completed"
    },
    "tags": []
   },
   "outputs": [],
   "source": [
    "def read_dataset():\n",
    "    \n",
    "    df = pd.read_csv(CFG.test_csv_path)\n",
    "    \n",
    "    if len(df) > 3:\n",
    "        CFG.compute_cv = False\n",
    "        CFG.images_dir = '../input/shopee-product-matching/test_images/'\n",
    "    \n",
    "    if CFG.compute_cv == True:\n",
    "        df = pd.read_csv(CFG.train_csv_path)\n",
    "        print('Using train as test to compute CV. Shape is', df.shape)\n",
    "    else:\n",
    "        print('Test shape is', df.shape )\n",
    "    \n",
    "    image_paths = CFG.images_dir + df['image']\n",
    "\n",
    "    return df, image_paths"
   ]
  },
  {
   "cell_type": "code",
   "execution_count": null,
   "id": "360e4d77",
   "metadata": {
    "execution": {
     "iopub.execute_input": "2022-03-25T08:24:35.925570Z",
     "iopub.status.busy": "2022-03-25T08:24:35.924475Z",
     "iopub.status.idle": "2022-03-25T08:24:35.927127Z",
     "shell.execute_reply": "2022-03-25T08:24:35.927643Z",
     "shell.execute_reply.started": "2021-09-14T13:04:02.629474Z"
    },
    "papermill": {
     "duration": 0.045212,
     "end_time": "2022-03-25T08:24:35.927799",
     "exception": false,
     "start_time": "2022-03-25T08:24:35.882587",
     "status": "completed"
    },
    "tags": []
   },
   "outputs": [],
   "source": [
    "def f1_score(y_true, y_pred):\n",
    "    y_true = y_true.apply(lambda x: set(x.split()))\n",
    "    y_pred = y_pred.apply(lambda x: set(x.split()))\n",
    "    intersection = np.array([len(x[0] & x[1]) for x in zip(y_true, y_pred)])\n",
    "    len_y_pred = y_pred.apply(lambda x: len(x)).values\n",
    "    len_y_true = y_true.apply(lambda x: len(x)).values\n",
    "    f1 = 2 * intersection / (len_y_pred + len_y_true)\n",
    "    return f1"
   ]
  },
  {
   "cell_type": "code",
   "execution_count": null,
   "id": "d2926758",
   "metadata": {
    "execution": {
     "iopub.execute_input": "2022-03-25T08:24:36.374681Z",
     "iopub.status.busy": "2022-03-25T08:24:36.373791Z",
     "iopub.status.idle": "2022-03-25T08:24:36.377344Z",
     "shell.execute_reply": "2022-03-25T08:24:36.377869Z",
     "shell.execute_reply.started": "2021-09-14T13:04:02.701944Z"
    },
    "papermill": {
     "duration": 0.045329,
     "end_time": "2022-03-25T08:24:36.378082",
     "exception": false,
     "start_time": "2022-03-25T08:24:36.332753",
     "status": "completed"
    },
    "tags": []
   },
   "outputs": [],
   "source": [
    "def get_cnn_embeddings(df, column, model, fc_dim=768, chunk=32):\n",
    "    \n",
    "    print('Getting embeddings...')\n",
    "    \n",
    "    cnn_embeddings = torch.zeros((df.shape[0], fc_dim)).to(CFG.device)\n",
    "    for i in tqdm(list(range(0, df.shape[0], chunk)) + [df.shape[0]-chunk], ncols=100):\n",
    "        titles = []\n",
    "        for title in df[column][i : i + chunk].values:\n",
    "            try:\n",
    "                title = ' ' + title.encode('utf-8').decode(\"unicode_escape\").encode('ascii', 'ignore').decode(\"unicode_escape\") + ' '\n",
    "            except:\n",
    "                pass\n",
    "            title = title.lower()\n",
    "            \n",
    "            titles.append(title)\n",
    "            \n",
    "        with torch.no_grad():\n",
    "            if CFG.use_amp:\n",
    "                with torch.cuda.amp.autocast():\n",
    "                    model_output = model.extract_features(titles)\n",
    "            else:\n",
    "                model_output = model.extract_features(titles)\n",
    "            \n",
    "        cnn_embeddings[i : i + chunk] = model_output\n",
    "    \n",
    "    del model, titles, model_output\n",
    "    gc.collect()\n",
    "    torch.cuda.empty_cache()\n",
    "    \n",
    "    return cnn_embeddings"
   ]
  },
  {
   "cell_type": "markdown",
   "id": "466dd6cb",
   "metadata": {
    "papermill": {
     "duration": 0.029106,
     "end_time": "2022-03-25T08:24:36.437662",
     "exception": false,
     "start_time": "2022-03-25T08:24:36.408556",
     "status": "completed"
    },
    "tags": []
   },
   "source": [
    "## Image Model"
   ]
  },
  {
   "cell_type": "code",
   "execution_count": null,
   "id": "92662646",
   "metadata": {
    "execution": {
     "iopub.execute_input": "2022-03-25T08:24:36.512515Z",
     "iopub.status.busy": "2022-03-25T08:24:36.511475Z",
     "iopub.status.idle": "2022-03-25T08:24:36.514066Z",
     "shell.execute_reply": "2022-03-25T08:24:36.514562Z",
     "shell.execute_reply.started": "2021-09-14T13:04:02.716697Z"
    },
    "papermill": {
     "duration": 0.046862,
     "end_time": "2022-03-25T08:24:36.514750",
     "exception": false,
     "start_time": "2022-03-25T08:24:36.467888",
     "status": "completed"
    },
    "tags": []
   },
   "outputs": [],
   "source": [
    "def gem(x, p=3, eps=1e-6):\n",
    "    return F.avg_pool2d(x.clamp(min=eps).pow(p), (x.size(-2), x.size(-1))).pow(1./p)\n",
    "\n",
    "    \n",
    "class ShopeeNet(nn.Module):\n",
    "\n",
    "    def __init__(self,\n",
    "                 backbone,\n",
    "                 num_classes,\n",
    "                 fc_dim=512,\n",
    "                 s=30, margin=0.5, p=3):\n",
    "        super(ShopeeNet, self).__init__()\n",
    "\n",
    "        self.backbone = backbone\n",
    "        self.backbone.reset_classifier(num_classes=0)  # remove classifier\n",
    "\n",
    "        self.classifier = nn.Linear(self.backbone.num_features, fc_dim)\n",
    "        self.bn = nn.BatchNorm1d(fc_dim)\n",
    "        self._init_params()\n",
    "        self.p = p\n",
    "\n",
    "    def _init_params(self):\n",
    "        nn.init.xavier_normal_(self.classifier.weight)\n",
    "        nn.init.constant_(self.classifier.bias, 0)\n",
    "        nn.init.constant_(self.bn.weight, 1)\n",
    "        nn.init.constant_(self.bn.bias, 0)\n",
    "\n",
    "    def extract_feat(self, x):\n",
    "        batch_size = x.shape[0]\n",
    "        x = self.backbone.forward_features(x)\n",
    "        if isinstance(x, tuple):\n",
    "            x = (x[0] + x[1]) / 2\n",
    "            x = self.bn(x)\n",
    "        else:\n",
    "            x = gem(x, p=self.p).view(batch_size, -1)\n",
    "            x = self.classifier(x)\n",
    "            x = self.bn(x)\n",
    "        return x\n"
   ]
  },
  {
   "cell_type": "code",
   "execution_count": null,
   "id": "ee13f2f3",
   "metadata": {
    "execution": {
     "iopub.execute_input": "2022-03-25T08:24:36.652969Z",
     "iopub.status.busy": "2022-03-25T08:24:36.652014Z",
     "iopub.status.idle": "2022-03-25T08:24:36.655621Z",
     "shell.execute_reply": "2022-03-25T08:24:36.655070Z",
     "shell.execute_reply.started": "2021-09-14T13:04:02.742461Z"
    },
    "papermill": {
     "duration": 0.039972,
     "end_time": "2022-03-25T08:24:36.655764",
     "exception": false,
     "start_time": "2022-03-25T08:24:36.615792",
     "status": "completed"
    },
    "tags": []
   },
   "outputs": [],
   "source": [
    "class ShopeeDataset(Dataset):\n",
    "\n",
    "    def __init__(self, df, img_dir, transform=None):\n",
    "        self.df = df\n",
    "        self.img_dir = img_dir\n",
    "        self.transform = transform\n",
    "\n",
    "    def __getitem__(self, index):\n",
    "        row = self.df.iloc[index]\n",
    "        img = read_image(str(self.img_dir + row['image']))\n",
    "        if self.transform is not None:\n",
    "            img = self.transform(img.float() / 255)\n",
    "        return img\n",
    "\n",
    "    def __len__(self):\n",
    "        return len(self.df)"
   ]
  },
  {
   "cell_type": "code",
   "execution_count": null,
   "id": "ca79861f",
   "metadata": {
    "execution": {
     "iopub.execute_input": "2022-03-25T08:24:36.723845Z",
     "iopub.status.busy": "2022-03-25T08:24:36.722673Z",
     "iopub.status.idle": "2022-03-25T08:24:36.725359Z",
     "shell.execute_reply": "2022-03-25T08:24:36.725938Z",
     "shell.execute_reply.started": "2021-09-14T13:04:02.755772Z"
    },
    "papermill": {
     "duration": 0.038818,
     "end_time": "2022-03-25T08:24:36.726104",
     "exception": false,
     "start_time": "2022-03-25T08:24:36.687286",
     "status": "completed"
    },
    "tags": []
   },
   "outputs": [],
   "source": [
    "from PIL import Image\n",
    "from torchvision.io import read_image\n",
    "from torchvision.transforms import Resize, RandomHorizontalFlip, ColorJitter, Normalize, Compose, RandomResizedCrop, CenterCrop, ToTensor"
   ]
  },
  {
   "cell_type": "code",
   "execution_count": null,
   "id": "7ae99d0a",
   "metadata": {
    "execution": {
     "iopub.execute_input": "2022-03-25T08:24:36.797818Z",
     "iopub.status.busy": "2022-03-25T08:24:36.796943Z",
     "iopub.status.idle": "2022-03-25T08:24:36.800392Z",
     "shell.execute_reply": "2022-03-25T08:24:36.799822Z",
     "shell.execute_reply.started": "2021-09-14T13:04:02.765285Z"
    },
    "papermill": {
     "duration": 0.044511,
     "end_time": "2022-03-25T08:24:36.800519",
     "exception": false,
     "start_time": "2022-03-25T08:24:36.756008",
     "status": "completed"
    },
    "tags": []
   },
   "outputs": [],
   "source": [
    "\n",
    "params1 = {'ver': 'v45', 'size': 384, 'test_size': 384, 'lr': 0.001, 'batch_size': 32, 'optimizer': 'sam', 'epochs': 18, 'wd': 0.0, 'backbone': 'vit_deit_base_distilled_patch16_384', 'margin': 0.3, 's': 50, 'fc_dim': 768, 'brightness': 0.2, 'contrast': 0.2, 'scale_lower': 0.2, 'scale_upper': 1.0, 'filter_wd': True, 'p': 3.0, 'p_eval': 6.0, 'loss': 'CurricularFace'}\n",
    "params2 = {'ver': 'v34', 'size': 256, 'test_size': 320, 'lr': 0.001, 'batch_size': 32, 'optimizer': 'sam', 'epochs': 11, 'wd': 0.0, 'backbone': 'dm_nfnet_f0', 'margin': 0.3, 's': 50, 'fc_dim': 256, 'brightness': 0.2, 'contrast': 0.2, 'scale_lower': 0.2, 'scale_upper': 1.0, 'filter_wd': True, 'p': 3.0, 'p_eval': 6.0, 'loss': 'CurricularFace'}\n",
    "params3 = {'ver': 'v79', 'lr': 0.001, 'batch_size': 16, 'size': 256, 'test_size': 320, 'optimizer': 'sam', 'epochs': 8, 'loss': 'CurricularFace', 'wd': 1e-05, 'filter_wd': True, 'margin': 0.3, 's': 50, 'fc_dim': 1024, 'cycle': 1, 'backbone': 'dm_nfnet_f0', 'model_name': 'cahya/cnn-base-indonesian-522M', 'max_len': 64, 'brightness': 0.2, 'contrast': 0.2, 'scale_lower': 0.2, 'scale_upper': 1.0, 'p': 3.0, 'p_eval': 6.0}"
   ]
  },
  {
   "cell_type": "code",
   "execution_count": null,
   "id": "3828a89b",
   "metadata": {
    "execution": {
     "iopub.execute_input": "2022-03-25T08:24:36.867140Z",
     "iopub.status.busy": "2022-03-25T08:24:36.863977Z",
     "iopub.status.idle": "2022-03-25T08:24:36.870477Z",
     "shell.execute_reply": "2022-03-25T08:24:36.869854Z",
     "shell.execute_reply.started": "2021-09-14T13:04:02.778486Z"
    },
    "papermill": {
     "duration": 0.039875,
     "end_time": "2022-03-25T08:24:36.870611",
     "exception": false,
     "start_time": "2022-03-25T08:24:36.830736",
     "status": "completed"
    },
    "tags": []
   },
   "outputs": [],
   "source": [
    "transform = Compose([\n",
    "    Resize(size=params1['test_size'] + 32, interpolation=Image.BICUBIC),\n",
    "    CenterCrop((params1['test_size'], params1['test_size'])),\n",
    "    Normalize(mean=[0.485, 0.456, 0.406], std=[0.229, 0.224, 0.225]),\n",
    "])"
   ]
  },
  {
   "cell_type": "code",
   "execution_count": null,
   "id": "c587b84c",
   "metadata": {
    "execution": {
     "iopub.execute_input": "2022-03-25T08:24:36.999783Z",
     "iopub.status.busy": "2022-03-25T08:24:36.990688Z",
     "iopub.status.idle": "2022-03-25T08:24:37.003403Z",
     "shell.execute_reply": "2022-03-25T08:24:37.004348Z",
     "shell.execute_reply.started": "2021-09-14T13:04:02.798348Z"
    },
    "papermill": {
     "duration": 0.093805,
     "end_time": "2022-03-25T08:24:37.004661",
     "exception": false,
     "start_time": "2022-03-25T08:24:36.910856",
     "status": "completed"
    },
    "tags": []
   },
   "outputs": [],
   "source": [
    "def get_cnn_embeddings(model, dataloader):\n",
    "    model.eval()\n",
    "\n",
    "    embeds = []\n",
    "    for _, image in tqdm(enumerate(dataloader), total=len(dataloader), desc=\"get_cnn_embeddings\", ncols=80): \n",
    "#         print(type(image), image.shape)\n",
    "        img = image.to(CFG.device)\n",
    "\n",
    "        with torch.no_grad():\n",
    "            if CFG.use_amp:\n",
    "                with torch.cuda.amp.autocast():\n",
    "                    features = model.extract_feat(img)\n",
    "            else:\n",
    "                features = model.extract_feat(img)\n",
    "\n",
    "        embeddings = features.detach().cpu().numpy().astype('float32')\n",
    "        embeds.append(embeddings)\n",
    "\n",
    "    del model\n",
    "    embeddings = np.concatenate(embeds)\n",
    "    del embeds\n",
    "    gc.collect()\n",
    "    return embeddings"
   ]
  },
  {
   "cell_type": "markdown",
   "id": "bf6f252e",
   "metadata": {
    "papermill": {
     "duration": 0.057688,
     "end_time": "2022-03-25T08:24:37.127855",
     "exception": false,
     "start_time": "2022-03-25T08:24:37.070167",
     "status": "completed"
    },
    "tags": []
   },
   "source": [
    "## Prediction Function"
   ]
  },
  {
   "cell_type": "code",
   "execution_count": null,
   "id": "de2112b3",
   "metadata": {
    "execution": {
     "iopub.execute_input": "2022-03-25T08:24:37.261092Z",
     "iopub.status.busy": "2022-03-25T08:24:37.259860Z",
     "iopub.status.idle": "2022-03-25T08:24:37.266227Z",
     "shell.execute_reply": "2022-03-25T08:24:37.267225Z",
     "shell.execute_reply.started": "2021-09-14T13:04:02.821048Z"
    },
    "papermill": {
     "duration": 0.080505,
     "end_time": "2022-03-25T08:24:37.267475",
     "exception": false,
     "start_time": "2022-03-25T08:24:37.186970",
     "status": "completed"
    },
    "tags": []
   },
   "outputs": [],
   "source": [
    "def get_predictions(df, cnn_embeddings_half, cnn_threshold=1.0, \n",
    "                    chunk=32, nearlest_one=True, max_preds=50):\n",
    "\n",
    "    print('Finding similar ones...')\n",
    "    CTS = len(df) // chunk\n",
    "    if (len(df) % chunk) != 0:\n",
    "        CTS += 1\n",
    "        \n",
    "    preds = []\n",
    "    for j in tqdm(range(CTS)):\n",
    "        a = j * chunk\n",
    "        b = min((j+1) * chunk, len(df))\n",
    "        cnn_cts = torch.matmul(cnn_embeddings_half, cnn_embeddings_half[a:b].T).T\n",
    "        \n",
    "        for k in range(b-a):\n",
    "            sim = (cnn_cts[k,]  )\n",
    "            sim_desc = torch.sort(sim, descending=True)\n",
    "            \n",
    "            IDX = sim_desc[1][sim_desc[0] > cnn_threshold][:max_preds].cpu().detach().numpy()\n",
    "            o = df.iloc[IDX].posting_id.values\n",
    "            \n",
    "            # if (len(IDX) == 1) and nearlest_one:\n",
    "            #     IDX = sim_desc[1][:2].cpu().detach().numpy()\n",
    "            #     o = df.iloc[IDX].posting_id.values\n",
    "            \n",
    "            preds.append(o)\n",
    "# cnn_cts, \n",
    "    del cnn_cts\n",
    "    gc.collect()\n",
    "    torch.cuda.empty_cache()\n",
    "    \n",
    "    return preds"
   ]
  },
  {
   "cell_type": "markdown",
   "id": "65b47f30",
   "metadata": {
    "papermill": {
     "duration": 0.051274,
     "end_time": "2022-03-25T08:24:37.372706",
     "exception": false,
     "start_time": "2022-03-25T08:24:37.321432",
     "status": "completed"
    },
    "tags": []
   },
   "source": [
    "# Calculating Predictions"
   ]
  },
  {
   "cell_type": "code",
   "execution_count": null,
   "id": "f47b41f4",
   "metadata": {
    "execution": {
     "iopub.execute_input": "2022-03-25T08:24:37.482594Z",
     "iopub.status.busy": "2022-03-25T08:24:37.481016Z",
     "iopub.status.idle": "2022-03-25T08:24:37.524553Z",
     "shell.execute_reply": "2022-03-25T08:24:37.523065Z",
     "shell.execute_reply.started": "2021-09-14T13:04:02.8325Z"
    },
    "papermill": {
     "duration": 0.101091,
     "end_time": "2022-03-25T08:24:37.524782",
     "exception": false,
     "start_time": "2022-03-25T08:24:37.423691",
     "status": "completed"
    },
    "tags": []
   },
   "outputs": [],
   "source": [
    "df, image_paths = read_dataset()"
   ]
  },
  {
   "cell_type": "markdown",
   "id": "3c7ca9b2",
   "metadata": {
    "papermill": {
     "duration": 0.042459,
     "end_time": "2022-03-25T08:24:37.623808",
     "exception": false,
     "start_time": "2022-03-25T08:24:37.581349",
     "status": "completed"
    },
    "tags": []
   },
   "source": [
    "# Image Embeddings"
   ]
  },
  {
   "cell_type": "code",
   "execution_count": null,
   "id": "78aa3169",
   "metadata": {
    "execution": {
     "iopub.execute_input": "2022-03-25T08:24:37.693298Z",
     "iopub.status.busy": "2022-03-25T08:24:37.692190Z",
     "iopub.status.idle": "2022-03-25T08:24:37.695444Z",
     "shell.execute_reply": "2022-03-25T08:24:37.694886Z",
     "shell.execute_reply.started": "2021-09-14T13:04:02.873551Z"
    },
    "papermill": {
     "duration": 0.040948,
     "end_time": "2022-03-25T08:24:37.695599",
     "exception": false,
     "start_time": "2022-03-25T08:24:37.654651",
     "status": "completed"
    },
    "tags": []
   },
   "outputs": [],
   "source": [
    "dataset = ShopeeDataset(df=df, img_dir=CFG.images_dir, transform=transform)\n",
    "data_loader = DataLoader(dataset, batch_size=32, shuffle=False,\n",
    "                         drop_last=False, pin_memory=True, num_workers=4)"
   ] 
  },
  {
   "cell_type": "code",
   "execution_count": null,
   "id": "920b030b",
   "metadata": {
    "execution": {
     "iopub.execute_input": "2022-03-25T08:24:37.764796Z",
     "iopub.status.busy": "2022-03-25T08:24:37.764104Z",
     "iopub.status.idle": "2022-03-25T08:24:54.919794Z",
     "shell.execute_reply": "2022-03-25T08:24:54.919258Z",
     "shell.execute_reply.started": "2021-09-14T13:05:00.962595Z"
    },
    "papermill": {
     "duration": 17.19391,
     "end_time": "2022-03-25T08:24:54.920054",
     "exception": false,
     "start_time": "2022-03-25T08:24:37.726144",
     "status": "completed"
    },
    "tags": []
   },
   "outputs": [],
   "source": [
    "path = '../input/shopee/v45.pth'\n",
    "checkpoint1 = torch.load(path, map_location=CFG.device)\n",
    "params1['backbone'] = \"resnet34\"\n",
    "params1['backbone'] = \"deit_base_distilled_patch16_384\"\n",
    "backbone = timm.create_model(model_name=params1['backbone'], pretrained=False)\n",
    "model1 = ShopeeNet(backbone, num_classes=0, fc_dim=params1['fc_dim'])\n",
    "model1 = model1.to(CFG.device)\n",
    "model1.load_state_dict(checkpoint1['model'], strict=False)\n",
    "model1.train(False)\n",
    "model1.p = params1['p_eval']"
   ]
  },
  {
   "cell_type": "code",
   "execution_count": null,
   "id": "384820da",
   "metadata": {
    "execution": {
     "iopub.execute_input": "2022-03-25T08:24:54.990141Z",
     "iopub.status.busy": "2022-03-25T08:24:54.989412Z",
     "iopub.status.idle": "2022-03-25T08:24:56.049413Z",
     "shell.execute_reply": "2022-03-25T08:24:56.050365Z"
    },
    "papermill": {
     "duration": 1.098731,
     "end_time": "2022-03-25T08:24:56.050615",
     "exception": false,
     "start_time": "2022-03-25T08:24:54.951884",
     "status": "completed"
    },
    "tags": []
   },
   "outputs": [],
   "source": [
    "cnn_embeddings = get_cnn_embeddings(model1, data_loader)\n",
    "print('cnn_embeddings.shape:', cnn_embeddings.shape)"
   ]
  },
  {
   "cell_type": "markdown",
   "id": "a0170281",
   "metadata": {
    "papermill": {
     "duration": 0.033228,
     "end_time": "2022-03-25T08:24:56.119556",
     "exception": false,
     "start_time": "2022-03-25T08:24:56.086328",
     "status": "completed"
    },
    "tags": []
   },
   "source": [
    "## Prediction"
   ]
  },
  {
   "cell_type": "code",
   "execution_count": null,
   "id": "59d781f7",
   "metadata": {
    "execution": {
     "iopub.execute_input": "2022-03-25T08:24:56.192188Z",
     "iopub.status.busy": "2022-03-25T08:24:56.191465Z",
     "iopub.status.idle": "2022-03-25T08:24:56.456918Z",
     "shell.execute_reply": "2022-03-25T08:24:56.456329Z"
    },
    "papermill": {
     "duration": 0.304439,
     "end_time": "2022-03-25T08:24:56.457205",
     "exception": false,
     "start_time": "2022-03-25T08:24:56.152766",
     "status": "completed"
    },
    "tags": []
   },
   "outputs": [],
   "source": [
    "cnn_embeddings_half = torch.tensor(cnn_embeddings, dtype=torch.float16).to(CFG.device)\n",
    "\n",
    "predictions = get_predictions(df,\n",
    "#                               F.normalize(cnn_embeddings_mean_half),\n",
    "                              F.normalize(cnn_embeddings_half),\n",
    "                              cnn_threshold=CFG.cnn_threshold,\n",
    "                              chunk=CFG.chunk,\n",
    "                              max_preds=CFG.max_preds,\n",
    "                              nearlest_one=CFG.nearlest_one)\n",
    "\n",
    "df['predictions'] = predictions"
   ]
  },
  {
   "cell_type": "markdown",
   "id": "79b6e9d8",
   "metadata": {
    "papermill": {
     "duration": 0.035008,
     "end_time": "2022-03-25T08:24:56.528093",
     "exception": false,
     "start_time": "2022-03-25T08:24:56.493085",
     "status": "completed"
    },
    "tags": []
   },
   "source": [
    "# Submission"
   ]
  },
  {
   "cell_type": "code",
   "execution_count": null,
   "id": "f4d3874d",
   "metadata": {
    "execution": {
     "iopub.execute_input": "2022-03-25T08:24:56.605104Z",
     "iopub.status.busy": "2022-03-25T08:24:56.604058Z",
     "iopub.status.idle": "2022-03-25T08:24:56.607816Z",
     "shell.execute_reply": "2022-03-25T08:24:56.607326Z"
    },
    "papermill": {
     "duration": 0.045228,
     "end_time": "2022-03-25T08:24:56.608052",
     "exception": false,
     "start_time": "2022-03-25T08:24:56.562824",
     "status": "completed"
    },
    "tags": []
   },
   "outputs": [],
   "source": [
    "def combine_predictions(row):\n",
    "    x = np.concatenate([row[col] for col in CFG.todo_predictions])\n",
    "    return ' '.join( np.unique(x) )"
   ]
  },
  {
   "cell_type": "code",
   "execution_count": null,
   "id": "d2d2bff6",
   "metadata": {
    "execution": {
     "iopub.execute_input": "2022-03-25T08:24:56.684701Z",
     "iopub.status.busy": "2022-03-25T08:24:56.683558Z",
     "iopub.status.idle": "2022-03-25T08:24:56.699483Z",
     "shell.execute_reply": "2022-03-25T08:24:56.698850Z"
    },
    "papermill": {
     "duration": 0.056533,
     "end_time": "2022-03-25T08:24:56.699617",
     "exception": false,
     "start_time": "2022-03-25T08:24:56.643084",
     "status": "completed"
    },
    "tags": []
   },
   "outputs": [],
   "source": [
    "df['matches'] = df.apply(combine_predictions, axis=1)\n",
    "df[['posting_id', 'matches']].to_csv('submission.csv', index=False)\n",
    "submission_df = pd.read_csv('submission.csv')"
   ]
  },
  {
   "cell_type": "code",
   "execution_count": null,
   "id": "a7276664",
   "metadata": {
    "execution": {
     "iopub.execute_input": "2022-03-25T08:24:56.777109Z",
     "iopub.status.busy": "2022-03-25T08:24:56.775997Z",
     "iopub.status.idle": "2022-03-25T08:24:56.790047Z",
     "shell.execute_reply": "2022-03-25T08:24:56.790632Z"
    },
    "papermill": {
     "duration": 0.056276,
     "end_time": "2022-03-25T08:24:56.790797",
     "exception": false,
     "start_time": "2022-03-25T08:24:56.734521",
     "status": "completed"
    },
    "tags": []
   },
   "outputs": [],
   "source": [
    "submission_df"
   ]
  },
  {
   "cell_type": "markdown",
   "id": "5e3cdc97",
   "metadata": {
    "papermill": {
     "duration": 0.034616,
     "end_time": "2022-03-25T08:24:56.860081",
     "exception": false,
     "start_time": "2022-03-25T08:24:56.825465",
     "status": "completed"
    },
    "tags": []
   },
   "source": [
    "## Compute CV"
   ]
  }
 ],
 "metadata": {
  "kernelspec": {
   "display_name": "Python 3",
   "language": "python",
   "name": "python3"
  },
  "language_info": {
   "codemirror_mode": {
    "name": "ipython",
    "version": 3
   },
   "file_extension": ".py",
   "mimetype": "text/x-python",
   "name": "python",
   "nbconvert_exporter": "python",
   "pygments_lexer": "ipython3",
   "version": "3.7.10"
  },
  "papermill": {
   "default_parameters": {},
   "duration": 43.824368,
   "end_time": "2022-03-25T08:25:00.076607",
   "environment_variables": {},
   "exception": null,
   "input_path": "__notebook__.ipynb",
   "output_path": "__notebook__.ipynb",
   "parameters": {},
   "start_time": "2022-03-25T08:24:16.252239",
   "version": "2.3.3"
  }
 },
 "nbformat": 4,
 "nbformat_minor": 5
}
